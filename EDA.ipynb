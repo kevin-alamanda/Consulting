{
 "cells": [
  {
   "cell_type": "code",
   "execution_count": 2,
   "metadata": {},
   "outputs": [],
   "source": [
    "import numpy as np\n",
    "import pandas as pd\n",
    "import seaborn as sns"
   ]
  },
  {
   "cell_type": "code",
   "execution_count": 3,
   "metadata": {},
   "outputs": [],
   "source": [
    "df = pd.read_csv('Assignment2_2023_Data.txt', delimiter = ' ')"
   ]
  },
  {
   "cell_type": "code",
   "execution_count": 4,
   "metadata": {},
   "outputs": [
    {
     "data": {
      "text/html": [
       "<div>\n",
       "<style scoped>\n",
       "    .dataframe tbody tr th:only-of-type {\n",
       "        vertical-align: middle;\n",
       "    }\n",
       "\n",
       "    .dataframe tbody tr th {\n",
       "        vertical-align: top;\n",
       "    }\n",
       "\n",
       "    .dataframe thead th {\n",
       "        text-align: right;\n",
       "    }\n",
       "</style>\n",
       "<table border=\"1\" class=\"dataframe\">\n",
       "  <thead>\n",
       "    <tr style=\"text-align: right;\">\n",
       "      <th></th>\n",
       "      <th>ALLEN.P</th>\n",
       "      <th>1.080</th>\n",
       "      <th>3</th>\n",
       "      <th>425</th>\n",
       "      <th>83</th>\n",
       "      <th>27</th>\n",
       "      <th>3.1</th>\n",
       "      <th>1</th>\n",
       "      <th>2</th>\n",
       "      <th>0.60</th>\n",
       "      <th>2.8</th>\n",
       "      <th>1.1</th>\n",
       "      <th>44</th>\n",
       "      <th>57</th>\n",
       "      <th>44.1</th>\n",
       "      <th>68</th>\n",
       "      <th>5</th>\n",
       "      <th>7</th>\n",
       "    </tr>\n",
       "  </thead>\n",
       "  <tbody>\n",
       "    <tr>\n",
       "      <th>0</th>\n",
       "      <td>ALLIGATOR.P</td>\n",
       "      <td>0.025</td>\n",
       "      <td>2</td>\n",
       "      <td>1494</td>\n",
       "      <td>47</td>\n",
       "      <td>26.0</td>\n",
       "      <td>2.0</td>\n",
       "      <td>0.0</td>\n",
       "      <td>1.0</td>\n",
       "      <td>0.69</td>\n",
       "      <td>0.8</td>\n",
       "      <td>1.0</td>\n",
       "      <td>45</td>\n",
       "      <td>37</td>\n",
       "      <td>50</td>\n",
       "      <td>69</td>\n",
       "      <td>12</td>\n",
       "      <td>30</td>\n",
       "    </tr>\n",
       "    <tr>\n",
       "      <th>1</th>\n",
       "      <td>ANASAGUNTICOOK.L</td>\n",
       "      <td>0.570</td>\n",
       "      <td>5</td>\n",
       "      <td>402</td>\n",
       "      <td>568</td>\n",
       "      <td>54.0</td>\n",
       "      <td>2.0</td>\n",
       "      <td>1.0</td>\n",
       "      <td>15.0</td>\n",
       "      <td>0.56</td>\n",
       "      <td>1.1</td>\n",
       "      <td>0.0</td>\n",
       "      <td>44</td>\n",
       "      <td>25</td>\n",
       "      <td>13</td>\n",
       "      <td>70</td>\n",
       "      <td>19</td>\n",
       "      <td>22</td>\n",
       "    </tr>\n",
       "    <tr>\n",
       "      <th>2</th>\n",
       "      <td>BALCH&amp;STUMP.PONDS</td>\n",
       "      <td>0.770</td>\n",
       "      <td>5</td>\n",
       "      <td>557</td>\n",
       "      <td>704</td>\n",
       "      <td>44.0</td>\n",
       "      <td>2.0</td>\n",
       "      <td>1.0</td>\n",
       "      <td>14.0</td>\n",
       "      <td>0.58</td>\n",
       "      <td>2.7</td>\n",
       "      <td>0.0</td>\n",
       "      <td>43</td>\n",
       "      <td>37</td>\n",
       "      <td>0</td>\n",
       "      <td>70</td>\n",
       "      <td>59</td>\n",
       "      <td>4</td>\n",
       "    </tr>\n",
       "    <tr>\n",
       "      <th>3</th>\n",
       "      <td>BASKAHEGAN.L</td>\n",
       "      <td>0.790</td>\n",
       "      <td>5</td>\n",
       "      <td>417</td>\n",
       "      <td>6944</td>\n",
       "      <td>22.0</td>\n",
       "      <td>2.0</td>\n",
       "      <td>0.0</td>\n",
       "      <td>123.0</td>\n",
       "      <td>0.57</td>\n",
       "      <td>2.0</td>\n",
       "      <td>1.0</td>\n",
       "      <td>45</td>\n",
       "      <td>30</td>\n",
       "      <td>32</td>\n",
       "      <td>67</td>\n",
       "      <td>50</td>\n",
       "      <td>2</td>\n",
       "    </tr>\n",
       "    <tr>\n",
       "      <th>4</th>\n",
       "      <td>BAUNEAG.BEG.L</td>\n",
       "      <td>0.750</td>\n",
       "      <td>4</td>\n",
       "      <td>205</td>\n",
       "      <td>200</td>\n",
       "      <td>29.0</td>\n",
       "      <td>2.0</td>\n",
       "      <td>1.0</td>\n",
       "      <td>18.0</td>\n",
       "      <td>0.51</td>\n",
       "      <td>9.6</td>\n",
       "      <td>0.0</td>\n",
       "      <td>43</td>\n",
       "      <td>21</td>\n",
       "      <td>46</td>\n",
       "      <td>70</td>\n",
       "      <td>44</td>\n",
       "      <td>23</td>\n",
       "    </tr>\n",
       "  </tbody>\n",
       "</table>\n",
       "</div>"
      ],
      "text/plain": [
       "             ALLEN.P  1.080  3   425    83    27  3.1    1      2  0.60  2.8  \\\n",
       "0        ALLIGATOR.P  0.025  2  1494    47  26.0  2.0  0.0    1.0  0.69  0.8   \n",
       "1   ANASAGUNTICOOK.L  0.570  5   402   568  54.0  2.0  1.0   15.0  0.56  1.1   \n",
       "2  BALCH&STUMP.PONDS  0.770  5   557   704  44.0  2.0  1.0   14.0  0.58  2.7   \n",
       "3       BASKAHEGAN.L  0.790  5   417  6944  22.0  2.0  0.0  123.0  0.57  2.0   \n",
       "4      BAUNEAG.BEG.L  0.750  4   205   200  29.0  2.0  1.0   18.0  0.51  9.6   \n",
       "\n",
       "   1.1  44  57  44.1  68   5   7  \n",
       "0  1.0  45  37    50  69  12  30  \n",
       "1  0.0  44  25    13  70  19  22  \n",
       "2  0.0  43  37     0  70  59   4  \n",
       "3  1.0  45  30    32  67  50   2  \n",
       "4  0.0  43  21    46  70  44  23  "
      ]
     },
     "execution_count": 4,
     "metadata": {},
     "output_type": "execute_result"
    }
   ],
   "source": [
    "df.head()"
   ]
  },
  {
   "cell_type": "code",
   "execution_count": 5,
   "metadata": {},
   "outputs": [
    {
     "data": {
      "text/html": [
       "<div>\n",
       "<style scoped>\n",
       "    .dataframe tbody tr th:only-of-type {\n",
       "        vertical-align: middle;\n",
       "    }\n",
       "\n",
       "    .dataframe tbody tr th {\n",
       "        vertical-align: top;\n",
       "    }\n",
       "\n",
       "    .dataframe thead th {\n",
       "        text-align: right;\n",
       "    }\n",
       "</style>\n",
       "<table border=\"1\" class=\"dataframe\">\n",
       "  <thead>\n",
       "    <tr style=\"text-align: right;\">\n",
       "      <th></th>\n",
       "      <th>1.080</th>\n",
       "      <th>3</th>\n",
       "      <th>425</th>\n",
       "      <th>83</th>\n",
       "      <th>27</th>\n",
       "      <th>3.1</th>\n",
       "      <th>1</th>\n",
       "      <th>2</th>\n",
       "      <th>0.60</th>\n",
       "      <th>2.8</th>\n",
       "      <th>1.1</th>\n",
       "      <th>44</th>\n",
       "      <th>57</th>\n",
       "      <th>44.1</th>\n",
       "      <th>68</th>\n",
       "      <th>5</th>\n",
       "      <th>7</th>\n",
       "    </tr>\n",
       "  </thead>\n",
       "  <tbody>\n",
       "    <tr>\n",
       "      <th>count</th>\n",
       "      <td>119.000000</td>\n",
       "      <td>119.000000</td>\n",
       "      <td>119.000000</td>\n",
       "      <td>119.000000</td>\n",
       "      <td>118.000000</td>\n",
       "      <td>118.000000</td>\n",
       "      <td>117.000000</td>\n",
       "      <td>116.000000</td>\n",
       "      <td>112.000000</td>\n",
       "      <td>112.00000</td>\n",
       "      <td>117.000000</td>\n",
       "      <td>119.000000</td>\n",
       "      <td>119.000000</td>\n",
       "      <td>119.000000</td>\n",
       "      <td>119.000000</td>\n",
       "      <td>119.000000</td>\n",
       "      <td>119.000000</td>\n",
       "    </tr>\n",
       "    <tr>\n",
       "      <th>mean</th>\n",
       "      <td>0.480050</td>\n",
       "      <td>4.268908</td>\n",
       "      <td>568.478992</td>\n",
       "      <td>908.176471</td>\n",
       "      <td>41.322034</td>\n",
       "      <td>2.194915</td>\n",
       "      <td>0.555556</td>\n",
       "      <td>42.594828</td>\n",
       "      <td>0.550268</td>\n",
       "      <td>6.49375</td>\n",
       "      <td>0.598291</td>\n",
       "      <td>44.554622</td>\n",
       "      <td>27.899160</td>\n",
       "      <td>29.117647</td>\n",
       "      <td>68.840336</td>\n",
       "      <td>30.663866</td>\n",
       "      <td>30.781513</td>\n",
       "    </tr>\n",
       "    <tr>\n",
       "      <th>std</th>\n",
       "      <td>0.330126</td>\n",
       "      <td>1.086882</td>\n",
       "      <td>432.305229</td>\n",
       "      <td>1992.480639</td>\n",
       "      <td>30.079633</td>\n",
       "      <td>0.719193</td>\n",
       "      <td>0.499041</td>\n",
       "      <td>117.458594</td>\n",
       "      <td>0.100256</td>\n",
       "      <td>11.65941</td>\n",
       "      <td>0.492352</td>\n",
       "      <td>0.926973</td>\n",
       "      <td>16.588435</td>\n",
       "      <td>17.683746</td>\n",
       "      <td>0.965359</td>\n",
       "      <td>17.643012</td>\n",
       "      <td>15.686094</td>\n",
       "    </tr>\n",
       "    <tr>\n",
       "      <th>min</th>\n",
       "      <td>0.025000</td>\n",
       "      <td>1.000000</td>\n",
       "      <td>15.000000</td>\n",
       "      <td>12.000000</td>\n",
       "      <td>5.000000</td>\n",
       "      <td>1.000000</td>\n",
       "      <td>0.000000</td>\n",
       "      <td>0.000000</td>\n",
       "      <td>0.060000</td>\n",
       "      <td>0.10000</td>\n",
       "      <td>0.000000</td>\n",
       "      <td>43.000000</td>\n",
       "      <td>0.000000</td>\n",
       "      <td>0.000000</td>\n",
       "      <td>67.000000</td>\n",
       "      <td>0.000000</td>\n",
       "      <td>1.000000</td>\n",
       "    </tr>\n",
       "    <tr>\n",
       "      <th>25%</th>\n",
       "      <td>0.250000</td>\n",
       "      <td>4.000000</td>\n",
       "      <td>255.000000</td>\n",
       "      <td>78.500000</td>\n",
       "      <td>21.000000</td>\n",
       "      <td>2.000000</td>\n",
       "      <td>0.000000</td>\n",
       "      <td>2.000000</td>\n",
       "      <td>0.510000</td>\n",
       "      <td>0.90000</td>\n",
       "      <td>0.000000</td>\n",
       "      <td>44.000000</td>\n",
       "      <td>15.000000</td>\n",
       "      <td>13.000000</td>\n",
       "      <td>68.000000</td>\n",
       "      <td>16.000000</td>\n",
       "      <td>18.000000</td>\n",
       "    </tr>\n",
       "    <tr>\n",
       "      <th>50%</th>\n",
       "      <td>0.410000</td>\n",
       "      <td>5.000000</td>\n",
       "      <td>416.000000</td>\n",
       "      <td>239.000000</td>\n",
       "      <td>35.000000</td>\n",
       "      <td>2.000000</td>\n",
       "      <td>1.000000</td>\n",
       "      <td>6.000000</td>\n",
       "      <td>0.560000</td>\n",
       "      <td>2.10000</td>\n",
       "      <td>1.000000</td>\n",
       "      <td>44.000000</td>\n",
       "      <td>26.000000</td>\n",
       "      <td>28.000000</td>\n",
       "      <td>69.000000</td>\n",
       "      <td>32.000000</td>\n",
       "      <td>31.000000</td>\n",
       "    </tr>\n",
       "    <tr>\n",
       "      <th>75%</th>\n",
       "      <td>0.640000</td>\n",
       "      <td>5.000000</td>\n",
       "      <td>835.000000</td>\n",
       "      <td>634.000000</td>\n",
       "      <td>50.000000</td>\n",
       "      <td>3.000000</td>\n",
       "      <td>1.000000</td>\n",
       "      <td>21.000000</td>\n",
       "      <td>0.610000</td>\n",
       "      <td>5.82500</td>\n",
       "      <td>1.000000</td>\n",
       "      <td>45.000000</td>\n",
       "      <td>42.500000</td>\n",
       "      <td>45.000000</td>\n",
       "      <td>70.000000</td>\n",
       "      <td>46.000000</td>\n",
       "      <td>44.000000</td>\n",
       "    </tr>\n",
       "    <tr>\n",
       "      <th>max</th>\n",
       "      <td>2.500000</td>\n",
       "      <td>5.000000</td>\n",
       "      <td>1700.000000</td>\n",
       "      <td>14340.000000</td>\n",
       "      <td>158.000000</td>\n",
       "      <td>3.000000</td>\n",
       "      <td>1.000000</td>\n",
       "      <td>762.000000</td>\n",
       "      <td>0.760000</td>\n",
       "      <td>64.10000</td>\n",
       "      <td>1.000000</td>\n",
       "      <td>47.000000</td>\n",
       "      <td>59.000000</td>\n",
       "      <td>59.000000</td>\n",
       "      <td>71.000000</td>\n",
       "      <td>59.000000</td>\n",
       "      <td>59.000000</td>\n",
       "    </tr>\n",
       "  </tbody>\n",
       "</table>\n",
       "</div>"
      ],
      "text/plain": [
       "            1.080           3          425            83          27  \\\n",
       "count  119.000000  119.000000   119.000000    119.000000  118.000000   \n",
       "mean     0.480050    4.268908   568.478992    908.176471   41.322034   \n",
       "std      0.330126    1.086882   432.305229   1992.480639   30.079633   \n",
       "min      0.025000    1.000000    15.000000     12.000000    5.000000   \n",
       "25%      0.250000    4.000000   255.000000     78.500000   21.000000   \n",
       "50%      0.410000    5.000000   416.000000    239.000000   35.000000   \n",
       "75%      0.640000    5.000000   835.000000    634.000000   50.000000   \n",
       "max      2.500000    5.000000  1700.000000  14340.000000  158.000000   \n",
       "\n",
       "              3.1           1           2        0.60        2.8         1.1  \\\n",
       "count  118.000000  117.000000  116.000000  112.000000  112.00000  117.000000   \n",
       "mean     2.194915    0.555556   42.594828    0.550268    6.49375    0.598291   \n",
       "std      0.719193    0.499041  117.458594    0.100256   11.65941    0.492352   \n",
       "min      1.000000    0.000000    0.000000    0.060000    0.10000    0.000000   \n",
       "25%      2.000000    0.000000    2.000000    0.510000    0.90000    0.000000   \n",
       "50%      2.000000    1.000000    6.000000    0.560000    2.10000    1.000000   \n",
       "75%      3.000000    1.000000   21.000000    0.610000    5.82500    1.000000   \n",
       "max      3.000000    1.000000  762.000000    0.760000   64.10000    1.000000   \n",
       "\n",
       "               44          57        44.1          68           5           7  \n",
       "count  119.000000  119.000000  119.000000  119.000000  119.000000  119.000000  \n",
       "mean    44.554622   27.899160   29.117647   68.840336   30.663866   30.781513  \n",
       "std      0.926973   16.588435   17.683746    0.965359   17.643012   15.686094  \n",
       "min     43.000000    0.000000    0.000000   67.000000    0.000000    1.000000  \n",
       "25%     44.000000   15.000000   13.000000   68.000000   16.000000   18.000000  \n",
       "50%     44.000000   26.000000   28.000000   69.000000   32.000000   31.000000  \n",
       "75%     45.000000   42.500000   45.000000   70.000000   46.000000   44.000000  \n",
       "max     47.000000   59.000000   59.000000   71.000000   59.000000   59.000000  "
      ]
     },
     "execution_count": 5,
     "metadata": {},
     "output_type": "execute_result"
    }
   ],
   "source": [
    "df.describe()"
   ]
  },
  {
   "cell_type": "code",
   "execution_count": 6,
   "metadata": {},
   "outputs": [],
   "source": [
    "df.columns = ['Name', 'Hg', 'N', 'ELV', 'SA', 'Z', 'LT', 'ST', 'DA', 'RF', 'FR', 'DAM', 'LAT1', 'LAT2', 'LAT3', 'LONG1', 'LONG2', 'LONG3']"
   ]
  },
  {
   "cell_type": "code",
   "execution_count": 7,
   "metadata": {},
   "outputs": [],
   "source": [
    "# cleaning the dataframe and eliminating rows with missing values\n",
    "df = df.dropna()\n"
   ]
  },
  {
   "cell_type": "code",
   "execution_count": 8,
   "metadata": {},
   "outputs": [],
   "source": [
    "# saving the cleaned datafram into an excel sheet for future reference\n",
    "df.to_excel('Mercury_Data.xlsx')"
   ]
  },
  {
   "attachments": {},
   "cell_type": "markdown",
   "metadata": {},
   "source": [
    "#### Testing Mercury levels across lakes in Maine, U.S\" ####"
   ]
  },
  {
   "cell_type": "code",
   "execution_count": 9,
   "metadata": {},
   "outputs": [],
   "source": [
    "mercury_levels = df['Hg']\n",
    "Hg_mean = mercury_levels.mean()\n",
    "Hg_std_dev = mercury_levels.std()\n",
    "Hg_max = mercury_levels.max()\n",
    "Hg_min = mercury_levels.min()"
   ]
  },
  {
   "cell_type": "code",
   "execution_count": 30,
   "metadata": {},
   "outputs": [],
   "source": [
    "df = df.sort_values(by='Hg')"
   ]
  },
  {
   "cell_type": "code",
   "execution_count": 31,
   "metadata": {},
   "outputs": [
    {
     "data": {
      "text/plain": [
       "Name     HODGDON.P\n",
       "Hg             2.5\n",
       "N                4\n",
       "ELV             50\n",
       "SA              35\n",
       "Z             22.0\n",
       "LT             2.0\n",
       "ST             1.0\n",
       "DA             1.0\n",
       "RF            0.63\n",
       "FR             3.9\n",
       "DAM            1.0\n",
       "LAT1            44\n",
       "LAT2            19\n",
       "LAT3            32\n",
       "LONG1           68\n",
       "LONG2           23\n",
       "LONG3           51\n",
       "Name: 50, dtype: object"
      ]
     },
     "execution_count": 31,
     "metadata": {},
     "output_type": "execute_result"
    }
   ],
   "source": [
    "df.iloc[108]"
   ]
  },
  {
   "cell_type": "code",
   "execution_count": 10,
   "metadata": {},
   "outputs": [
    {
     "name": "stdout",
     "output_type": "stream",
     "text": [
      "Mean mercury levels:  0.48\n",
      "Standard Deviation of mercury levels:  0.34\n",
      "Maximum recorded case of mercury levels:  2.50\n",
      "Minimum recorded case of mercury levels:  0.03\n"
     ]
    }
   ],
   "source": [
    "print(\"Mean mercury levels: \", format(Hg_mean, \".2f\"))\n",
    "print(\"Standard Deviation of mercury levels: \", format(Hg_std_dev, \".2f\"))\n",
    "print(\"Maximum recorded case of mercury levels: \", format(Hg_max, \".2f\"))\n",
    "print(\"Minimum recorded case of mercury levels: \", format(Hg_min, \".2f\"))"
   ]
  },
  {
   "attachments": {},
   "cell_type": "markdown",
   "metadata": {},
   "source": [
    "The state of Maine considers 0.43 ppm as the threshold for mercury contanimation. The analysis shows that the mean mercuty concentraion across lakes/ponds in Maine is 0.48 - higher than the threshold."
   ]
  },
  {
   "cell_type": "code",
   "execution_count": 11,
   "metadata": {},
   "outputs": [
    {
     "data": {
      "image/png": "[encoded data removed]",
      "text/plain": [
       "<Figure size 640x480 with 1 Axes>"
      ]
     },
     "metadata": {},
     "output_type": "display_data"
    }
   ],
   "source": [
    "plt = sns.histplot(mercury_levels, kde = True)"
   ]
  },
  {
   "attachments": {},
   "cell_type": "markdown",
   "metadata": {},
   "source": [
    "The distribution of the mercury levels apprears to be positive skewed"
   ]
  },
  {
   "attachments": {},
   "cell_type": "markdown",
   "metadata": {},
   "source": [
    "##### Analyzing the impact of Dams and man-made structures on the mercury levels found in fish ####"
   ]
  },
  {
   "cell_type": "code",
   "execution_count": 12,
   "metadata": {},
   "outputs": [],
   "source": [
    "dam_present = df.groupby('DAM')\n",
    "mean_by_dam = dam_present['Hg'].mean()\n",
    "Hg_std_dev_by_dam = dam_present['Hg'].std()"
   ]
  },
  {
   "cell_type": "code",
   "execution_count": 13,
   "metadata": {},
   "outputs": [
    {
     "data": {
      "text/plain": [
       "DAM\n",
       "0.0    0.525578\n",
       "1.0    0.447891\n",
       "Name: Hg, dtype: float64"
      ]
     },
     "execution_count": 13,
     "metadata": {},
     "output_type": "execute_result"
    }
   ],
   "source": [
    "mean_by_dam"
   ]
  },
  {
   "cell_type": "code",
   "execution_count": 14,
   "metadata": {},
   "outputs": [
    {
     "data": {
      "text/plain": [
       "DAM\n",
       "0.0    0.309927\n",
       "1.0    0.356420\n",
       "Name: Hg, dtype: float64"
      ]
     },
     "execution_count": 14,
     "metadata": {},
     "output_type": "execute_result"
    }
   ],
   "source": [
    "Hg_std_dev_by_dam"
   ]
  },
  {
   "attachments": {},
   "cell_type": "markdown",
   "metadata": {},
   "source": [
    "#### Analyzing the correlation between Lake type and mercury levels ####"
   ]
  },
  {
   "cell_type": "code",
   "execution_count": 24,
   "metadata": {},
   "outputs": [],
   "source": [
    "lake_type = df.groupby('LT')\n",
    "mean_by_lake = lake_type['Hg'].mean()\n",
    "std_dev_by_type = lake_type['Hg'].std()"
   ]
  },
  {
   "cell_type": "code",
   "execution_count": 27,
   "metadata": {},
   "outputs": [
    {
     "name": "stdout",
     "output_type": "stream",
     "text": [
      "0.33869446863698127\n"
     ]
    },
    {
     "data": {
      "text/plain": [
       "LT\n",
       "1.0    0.382632\n",
       "2.0    0.552755\n",
       "3.0    0.438073\n",
       "Name: Hg, dtype: float64"
      ]
     },
     "execution_count": 27,
     "metadata": {},
     "output_type": "execute_result"
    }
   ],
   "source": [
    "# 1: Oligotrophic\n",
    "# 2: Eutrophic\n",
    "# 3: Mesotrophic\n",
    "print(Hg_std_dev)\n",
    "mean_by_lake"
   ]
  },
  {
   "cell_type": "code",
   "execution_count": 22,
   "metadata": {},
   "outputs": [],
   "source": [
    "productivity = df.groupby('N')\n",
    "mean_by_productivity = productivity['Hg'].mean()\n",
    "std_dev_by_type = lake_type['Hg'].std()"
   ]
  },
  {
   "cell_type": "code",
   "execution_count": 23,
   "metadata": {},
   "outputs": [
    {
     "data": {
      "text/plain": [
       "N\n",
       "1    0.620000\n",
       "2    0.334500\n",
       "3    0.446733\n",
       "4    0.584375\n",
       "5    0.480000\n",
       "Name: Hg, dtype: float64"
      ]
     },
     "execution_count": 23,
     "metadata": {},
     "output_type": "execute_result"
    }
   ],
   "source": [
    "mean_by_productivity"
   ]
  }
 ],
 "metadata": {
  "kernelspec": {
   "display_name": "base",
   "language": "python",
   "name": "python3"
  },
  "language_info": {
   "codemirror_mode": {
    "name": "ipython",
    "version": 3
   },
   "file_extension": ".py",
   "mimetype": "text/x-python",
   "name": "python",
   "nbconvert_exporter": "python",
   "pygments_lexer": "ipython3",
   "version": "3.9.13"
  },
  "orig_nbformat": 4,
  "vscode": {
   "interpreter": {
    "hash": "91c1d2470ab80b393afef1a9308e4146ea19685bf186cfe44fe3659b7d9e4fc0"
   }
  }
 },
 "nbformat": 4,
 "nbformat_minor": 2
}
